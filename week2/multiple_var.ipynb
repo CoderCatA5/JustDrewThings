{
 "cells": [
  {
   "cell_type": "code",
   "execution_count": 19,
   "metadata": {},
   "outputs": [],
   "source": [
    "import copy ,math\n",
    "import numpy as np\n",
    "import matplotlib.pyplot as plt\n"
   ]
  },
  {
   "cell_type": "code",
   "execution_count": 20,
   "metadata": {},
   "outputs": [
    {
     "name": "stdout",
     "output_type": "stream",
     "text": [
      "[0. 0. 0. 0.]\n"
     ]
    }
   ],
   "source": [
    "X_train = np.array([[2104, 5, 1, 45], [1416, 3, 2, 40], [852, 2, 1, 35]])\n",
    "y_train = np.array([460, 232, 178])\n",
    "\n",
    "w_test=np.zeros(X_train.shape[1])\n",
    "b_test=0\n",
    "\n",
    "print(w_test)"
   ]
  },
  {
   "cell_type": "code",
   "execution_count": 21,
   "metadata": {},
   "outputs": [],
   "source": [
    "def compute_fwb(x,w,b):\n",
    "    return np.dot(x,w)+b\n",
    "\n",
    "#computes model f_wb=w.B +b"
   ]
  },
  {
   "cell_type": "code",
   "execution_count": 22,
   "metadata": {},
   "outputs": [],
   "source": [
    "def compute_gradient(X,y,w,b):\n",
    "    m,n=X.shape\n",
    "\n",
    "    dj_dw=np.zeros((n,))\n",
    "    dj_db=0.\n",
    "\n",
    "    for i in range(m) :\n",
    "        err=(np.dot(X[i],w)+b)-y[i]\n",
    "\n",
    "        for j in range(n):\n",
    "            dj_dw[j]+=err*X[i,j]\n",
    "        dj_db+=err\n",
    "    \n",
    "    return dj_db/m,dj_dw/m\n",
    "\n"
   ]
  },
  {
   "cell_type": "code",
   "execution_count": 23,
   "metadata": {},
   "outputs": [],
   "source": [
    "def gradient_descent(X_train,y_train,w_in,b_in,alpha,num_iters):\n",
    "    w=copy.deepcopy(w_in)\n",
    "    b=b_in\n",
    "\n",
    "    for i in range(num_iters):\n",
    "        dj_db,dj_dw=compute_gradient(X_train,y_train,w,b)\n",
    "\n",
    "        w -= alpha\n",
    "        b -= alpha\n",
    "\n",
    "    print(w,b)\n",
    "    return w,b"
   ]
  },
  {
   "cell_type": "code",
   "execution_count": 30,
   "metadata": {},
   "outputs": [],
   "source": [
    "print(gradient_descent(X_train,y_train,w_test,b_test,0.0001,1500000000))"
   ]
  }
 ],
 "metadata": {
  "kernelspec": {
   "display_name": "Python 3.7.13 ('ai_ml_nn')",
   "language": "python",
   "name": "python3"
  },
  "language_info": {
   "codemirror_mode": {
    "name": "ipython",
    "version": 3
   },
   "file_extension": ".py",
   "mimetype": "text/x-python",
   "name": "python",
   "nbconvert_exporter": "python",
   "pygments_lexer": "ipython3",
   "version": "3.7.13"
  },
  "orig_nbformat": 4,
  "vscode": {
   "interpreter": {
    "hash": "75f149aabefc45f596bad3ecd1cce999665dc47c609d2b6ed1c0c06088326543"
   }
  }
 },
 "nbformat": 4,
 "nbformat_minor": 2
}
