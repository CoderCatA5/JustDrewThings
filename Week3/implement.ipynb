{
 "cells": [
  {
   "cell_type": "code",
   "execution_count": 11,
   "metadata": {},
   "outputs": [],
   "source": [
    "import numpy as np\n",
    "import matplotlib.pyplot as plt\n",
    "import math\n",
    "\n",
    "#some imports"
   ]
  },
  {
   "cell_type": "code",
   "execution_count": 12,
   "metadata": {},
   "outputs": [],
   "source": [
    "#classification\n",
    "X_train = np.array([[0.5, 1.5], [1,1], [1.5, 0.5], [3, 0.5], [2, 2], [1, 2.5]])  #(m,n)\n",
    "y_train = np.array([0, 0, 0, 1, 1, 1])\n",
    "\n",
    "#test data"
   ]
  },
  {
   "cell_type": "code",
   "execution_count": 15,
   "metadata": {},
   "outputs": [],
   "source": [
    "#compute cost logistic \n",
    "\n",
    "def compute_cost_logistic(X,y,w,b):\n",
    "    m,n=X.shape\n",
    "\n",
    "    cost=0.0\n",
    "    for i in range(m):\n",
    "        z_i=np.dot(X[i],w)+b\n",
    "        f_x= 1 /(1 + math.e**(-(z_i)))\n",
    "\n",
    "        cost+=y[i]*np.log(f_x)+(1-y[i])* np.log(1-f_x)\n",
    "    \n",
    "    cost /= -m\n",
    "\n",
    "    return cost\n"
   ]
  },
  {
   "cell_type": "code",
   "execution_count": 16,
   "metadata": {},
   "outputs": [
    {
     "name": "stdout",
     "output_type": "stream",
     "text": [
      "0.36686678640551745\n"
     ]
    }
   ],
   "source": [
    "w_tmp = np.array([1,1])\n",
    "b_tmp = -3\n",
    "print(compute_cost_logistic(X_train, y_train, w_tmp, b_tmp))"
   ]
  },
  {
   "cell_type": "code",
   "execution_count": 2,
   "metadata": {},
   "outputs": [
    {
     "name": "stdout",
     "output_type": "stream",
     "text": [
      "1267650600228229401496703205376\n"
     ]
    }
   ],
   "source": [
    "a=2**100\n",
    "print(a)"
   ]
  },
  {
   "cell_type": "code",
   "execution_count": 5,
   "metadata": {},
   "outputs": [
    {
     "name": "stdout",
     "output_type": "stream",
     "text": [
      "['1', '2', 'vo'],2022\n"
     ]
    }
   ],
   "source": [
    "class FunEvent:\n",
    "    def __init__(self,tags,year):\n",
    "        self.tags=tags\n",
    "        self.year=year\n",
    "    \n",
    "    def __str__(self):\n",
    "        return f\"{self.tags},{self.year}\"\n",
    "\n",
    "tags=[\"1\",\"2\"]\n",
    "year=2022\n",
    "\n",
    "bootcamp=FunEvent(tags,year)\n",
    "tags.append(\"vo\")\n",
    "year=2023\n",
    "\n",
    "print(bootcamp)"
   ]
  }
 ],
 "metadata": {
  "kernelspec": {
   "display_name": "Python 3.7.13 ('ai_ml_nn')",
   "language": "python",
   "name": "python3"
  },
  "language_info": {
   "codemirror_mode": {
    "name": "ipython",
    "version": 3
   },
   "file_extension": ".py",
   "mimetype": "text/x-python",
   "name": "python",
   "nbconvert_exporter": "python",
   "pygments_lexer": "ipython3",
   "version": "3.7.13"
  },
  "orig_nbformat": 4,
  "vscode": {
   "interpreter": {
    "hash": "75f149aabefc45f596bad3ecd1cce999665dc47c609d2b6ed1c0c06088326543"
   }
  }
 },
 "nbformat": 4,
 "nbformat_minor": 2
}
